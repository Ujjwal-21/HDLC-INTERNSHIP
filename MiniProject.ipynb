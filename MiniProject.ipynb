{
  "nbformat": 4,
  "nbformat_minor": 0,
  "metadata": {
    "colab": {
      "provenance": [],
      "collapsed_sections": []
    },
    "kernelspec": {
      "name": "python3",
      "display_name": "Python 3"
    },
    "language_info": {
      "name": "python"
    }
  },
  "cells": [
    {
      "cell_type": "markdown",
      "source": [
        "# MINI PROJECT\n",
        "\n",
        "UJJWAL KANTI PRAMANICK\n",
        "\n",
        "\n",
        "20BCE1714"
      ],
      "metadata": {
        "id": "cIwoyky6DiNx"
      }
    },
    {
      "cell_type": "code",
      "execution_count": 16,
      "metadata": {
        "id": "VSsNt-MOsd1L"
      },
      "outputs": [],
      "source": [
        "import pandas as pd"
      ]
    },
    {
      "cell_type": "code",
      "source": [
        "import matplotlib.pyplot as plt"
      ],
      "metadata": {
        "id": "TRfIijW8sw8Q"
      },
      "execution_count": 2,
      "outputs": []
    },
    {
      "cell_type": "markdown",
      "source": [
        "Read the csv file named windpower.csv[attached in mail]"
      ],
      "metadata": {
        "id": "KnvYhBajECCo"
      }
    },
    {
      "cell_type": "code",
      "source": [
        "windpower=pd.read_csv('windpower.csv')\n",
        "windpower"
      ],
      "metadata": {
        "colab": {
          "base_uri": "https://localhost:8080/",
          "height": 411
        },
        "id": "N08YCzJotsjs",
        "outputId": "772ef635-12c9-443e-c3cf-a6259404a2c8"
      },
      "execution_count": 3,
      "outputs": [
        {
          "output_type": "execute_result",
          "data": {
            "text/plain": [
              "              Date/Time  LV ActivePower (kW)  Wind Speed (m/s)  \\\n",
              "0      01 01 2018 00:00           380.047791          5.311336   \n",
              "1      01 01 2018 00:10           453.769196          5.672167   \n",
              "2      01 01 2018 00:20           306.376587          5.216037   \n",
              "3      01 01 2018 00:30           419.645904          5.659674   \n",
              "4      01 01 2018 00:40           380.650696          5.577941   \n",
              "...                 ...                  ...               ...   \n",
              "50525  31 12 2018 23:10          2963.980957         11.404030   \n",
              "50526  31 12 2018 23:20          1684.353027          7.332648   \n",
              "50527  31 12 2018 23:30          2201.106934          8.435358   \n",
              "50528  31 12 2018 23:40          2515.694092          9.421366   \n",
              "50529  31 12 2018 23:50          2820.466064          9.979332   \n",
              "\n",
              "       Theoretical_Power_Curve (KWh)  Wind Direction (°)  \n",
              "0                         416.328908          259.994904  \n",
              "1                         519.917511          268.641113  \n",
              "2                         390.900016          272.564789  \n",
              "3                         516.127569          271.258087  \n",
              "4                         491.702972          265.674286  \n",
              "...                              ...                 ...  \n",
              "50525                    3397.190793           80.502724  \n",
              "50526                    1173.055771           84.062599  \n",
              "50527                    1788.284755           84.742500  \n",
              "50528                    2418.382503           84.297913  \n",
              "50529                    2779.184096           82.274620  \n",
              "\n",
              "[50530 rows x 5 columns]"
            ],
            "text/html": [
              "\n",
              "  <div id=\"df-2892d3f7-0285-4965-b3ff-7c2c9398be73\">\n",
              "    <div class=\"colab-df-container\">\n",
              "      <div>\n",
              "<style scoped>\n",
              "    .dataframe tbody tr th:only-of-type {\n",
              "        vertical-align: middle;\n",
              "    }\n",
              "\n",
              "    .dataframe tbody tr th {\n",
              "        vertical-align: top;\n",
              "    }\n",
              "\n",
              "    .dataframe thead th {\n",
              "        text-align: right;\n",
              "    }\n",
              "</style>\n",
              "<table border=\"1\" class=\"dataframe\">\n",
              "  <thead>\n",
              "    <tr style=\"text-align: right;\">\n",
              "      <th></th>\n",
              "      <th>Date/Time</th>\n",
              "      <th>LV ActivePower (kW)</th>\n",
              "      <th>Wind Speed (m/s)</th>\n",
              "      <th>Theoretical_Power_Curve (KWh)</th>\n",
              "      <th>Wind Direction (°)</th>\n",
              "    </tr>\n",
              "  </thead>\n",
              "  <tbody>\n",
              "    <tr>\n",
              "      <th>0</th>\n",
              "      <td>01 01 2018 00:00</td>\n",
              "      <td>380.047791</td>\n",
              "      <td>5.311336</td>\n",
              "      <td>416.328908</td>\n",
              "      <td>259.994904</td>\n",
              "    </tr>\n",
              "    <tr>\n",
              "      <th>1</th>\n",
              "      <td>01 01 2018 00:10</td>\n",
              "      <td>453.769196</td>\n",
              "      <td>5.672167</td>\n",
              "      <td>519.917511</td>\n",
              "      <td>268.641113</td>\n",
              "    </tr>\n",
              "    <tr>\n",
              "      <th>2</th>\n",
              "      <td>01 01 2018 00:20</td>\n",
              "      <td>306.376587</td>\n",
              "      <td>5.216037</td>\n",
              "      <td>390.900016</td>\n",
              "      <td>272.564789</td>\n",
              "    </tr>\n",
              "    <tr>\n",
              "      <th>3</th>\n",
              "      <td>01 01 2018 00:30</td>\n",
              "      <td>419.645904</td>\n",
              "      <td>5.659674</td>\n",
              "      <td>516.127569</td>\n",
              "      <td>271.258087</td>\n",
              "    </tr>\n",
              "    <tr>\n",
              "      <th>4</th>\n",
              "      <td>01 01 2018 00:40</td>\n",
              "      <td>380.650696</td>\n",
              "      <td>5.577941</td>\n",
              "      <td>491.702972</td>\n",
              "      <td>265.674286</td>\n",
              "    </tr>\n",
              "    <tr>\n",
              "      <th>...</th>\n",
              "      <td>...</td>\n",
              "      <td>...</td>\n",
              "      <td>...</td>\n",
              "      <td>...</td>\n",
              "      <td>...</td>\n",
              "    </tr>\n",
              "    <tr>\n",
              "      <th>50525</th>\n",
              "      <td>31 12 2018 23:10</td>\n",
              "      <td>2963.980957</td>\n",
              "      <td>11.404030</td>\n",
              "      <td>3397.190793</td>\n",
              "      <td>80.502724</td>\n",
              "    </tr>\n",
              "    <tr>\n",
              "      <th>50526</th>\n",
              "      <td>31 12 2018 23:20</td>\n",
              "      <td>1684.353027</td>\n",
              "      <td>7.332648</td>\n",
              "      <td>1173.055771</td>\n",
              "      <td>84.062599</td>\n",
              "    </tr>\n",
              "    <tr>\n",
              "      <th>50527</th>\n",
              "      <td>31 12 2018 23:30</td>\n",
              "      <td>2201.106934</td>\n",
              "      <td>8.435358</td>\n",
              "      <td>1788.284755</td>\n",
              "      <td>84.742500</td>\n",
              "    </tr>\n",
              "    <tr>\n",
              "      <th>50528</th>\n",
              "      <td>31 12 2018 23:40</td>\n",
              "      <td>2515.694092</td>\n",
              "      <td>9.421366</td>\n",
              "      <td>2418.382503</td>\n",
              "      <td>84.297913</td>\n",
              "    </tr>\n",
              "    <tr>\n",
              "      <th>50529</th>\n",
              "      <td>31 12 2018 23:50</td>\n",
              "      <td>2820.466064</td>\n",
              "      <td>9.979332</td>\n",
              "      <td>2779.184096</td>\n",
              "      <td>82.274620</td>\n",
              "    </tr>\n",
              "  </tbody>\n",
              "</table>\n",
              "<p>50530 rows × 5 columns</p>\n",
              "</div>\n",
              "      <button class=\"colab-df-convert\" onclick=\"convertToInteractive('df-2892d3f7-0285-4965-b3ff-7c2c9398be73')\"\n",
              "              title=\"Convert this dataframe to an interactive table.\"\n",
              "              style=\"display:none;\">\n",
              "        \n",
              "  <svg xmlns=\"http://www.w3.org/2000/svg\" height=\"24px\"viewBox=\"0 0 24 24\"\n",
              "       width=\"24px\">\n",
              "    <path d=\"M0 0h24v24H0V0z\" fill=\"none\"/>\n",
              "    <path d=\"M18.56 5.44l.94 2.06.94-2.06 2.06-.94-2.06-.94-.94-2.06-.94 2.06-2.06.94zm-11 1L8.5 8.5l.94-2.06 2.06-.94-2.06-.94L8.5 2.5l-.94 2.06-2.06.94zm10 10l.94 2.06.94-2.06 2.06-.94-2.06-.94-.94-2.06-.94 2.06-2.06.94z\"/><path d=\"M17.41 7.96l-1.37-1.37c-.4-.4-.92-.59-1.43-.59-.52 0-1.04.2-1.43.59L10.3 9.45l-7.72 7.72c-.78.78-.78 2.05 0 2.83L4 21.41c.39.39.9.59 1.41.59.51 0 1.02-.2 1.41-.59l7.78-7.78 2.81-2.81c.8-.78.8-2.07 0-2.86zM5.41 20L4 18.59l7.72-7.72 1.47 1.35L5.41 20z\"/>\n",
              "  </svg>\n",
              "      </button>\n",
              "      \n",
              "  <style>\n",
              "    .colab-df-container {\n",
              "      display:flex;\n",
              "      flex-wrap:wrap;\n",
              "      gap: 12px;\n",
              "    }\n",
              "\n",
              "    .colab-df-convert {\n",
              "      background-color: #E8F0FE;\n",
              "      border: none;\n",
              "      border-radius: 50%;\n",
              "      cursor: pointer;\n",
              "      display: none;\n",
              "      fill: #1967D2;\n",
              "      height: 32px;\n",
              "      padding: 0 0 0 0;\n",
              "      width: 32px;\n",
              "    }\n",
              "\n",
              "    .colab-df-convert:hover {\n",
              "      background-color: #E2EBFA;\n",
              "      box-shadow: 0px 1px 2px rgba(60, 64, 67, 0.3), 0px 1px 3px 1px rgba(60, 64, 67, 0.15);\n",
              "      fill: #174EA6;\n",
              "    }\n",
              "\n",
              "    [theme=dark] .colab-df-convert {\n",
              "      background-color: #3B4455;\n",
              "      fill: #D2E3FC;\n",
              "    }\n",
              "\n",
              "    [theme=dark] .colab-df-convert:hover {\n",
              "      background-color: #434B5C;\n",
              "      box-shadow: 0px 1px 3px 1px rgba(0, 0, 0, 0.15);\n",
              "      filter: drop-shadow(0px 1px 2px rgba(0, 0, 0, 0.3));\n",
              "      fill: #FFFFFF;\n",
              "    }\n",
              "  </style>\n",
              "\n",
              "      <script>\n",
              "        const buttonEl =\n",
              "          document.querySelector('#df-2892d3f7-0285-4965-b3ff-7c2c9398be73 button.colab-df-convert');\n",
              "        buttonEl.style.display =\n",
              "          google.colab.kernel.accessAllowed ? 'block' : 'none';\n",
              "\n",
              "        async function convertToInteractive(key) {\n",
              "          const element = document.querySelector('#df-2892d3f7-0285-4965-b3ff-7c2c9398be73');\n",
              "          const dataTable =\n",
              "            await google.colab.kernel.invokeFunction('convertToInteractive',\n",
              "                                                     [key], {});\n",
              "          if (!dataTable) return;\n",
              "\n",
              "          const docLinkHtml = 'Like what you see? Visit the ' +\n",
              "            '<a target=\"_blank\" href=https://colab.research.google.com/notebooks/data_table.ipynb>data table notebook</a>'\n",
              "            + ' to learn more about interactive tables.';\n",
              "          element.innerHTML = '';\n",
              "          dataTable['output_type'] = 'display_data';\n",
              "          await google.colab.output.renderOutput(dataTable, element);\n",
              "          const docLink = document.createElement('div');\n",
              "          docLink.innerHTML = docLinkHtml;\n",
              "          element.appendChild(docLink);\n",
              "        }\n",
              "      </script>\n",
              "    </div>\n",
              "  </div>\n",
              "  "
            ]
          },
          "metadata": {},
          "execution_count": 3
        }
      ]
    },
    {
      "cell_type": "markdown",
      "source": [
        "2.Print the top 10 rows"
      ],
      "metadata": {
        "id": "y_Oa1nMJEJTg"
      }
    },
    {
      "cell_type": "code",
      "source": [
        "ten_values=windpower.head(10)"
      ],
      "metadata": {
        "id": "7bz5okuWt4vs"
      },
      "execution_count": 4,
      "outputs": []
    },
    {
      "cell_type": "code",
      "source": [
        "print(ten_values)"
      ],
      "metadata": {
        "colab": {
          "base_uri": "https://localhost:8080/"
        },
        "id": "ZC1bGZk2uD63",
        "outputId": "ec3e465d-bbba-49e5-cbea-a4b15ddff99b"
      },
      "execution_count": 5,
      "outputs": [
        {
          "output_type": "stream",
          "name": "stdout",
          "text": [
            "          Date/Time  LV ActivePower (kW)  Wind Speed (m/s)  \\\n",
            "0  01 01 2018 00:00           380.047791          5.311336   \n",
            "1  01 01 2018 00:10           453.769196          5.672167   \n",
            "2  01 01 2018 00:20           306.376587          5.216037   \n",
            "3  01 01 2018 00:30           419.645904          5.659674   \n",
            "4  01 01 2018 00:40           380.650696          5.577941   \n",
            "5  01 01 2018 00:50           402.391998          5.604052   \n",
            "6  01 01 2018 01:00           447.605713          5.793008   \n",
            "7  01 01 2018 01:10           387.242188          5.306050   \n",
            "8  01 01 2018 01:20           463.651215          5.584629   \n",
            "9  01 01 2018 01:30           439.725708          5.523228   \n",
            "\n",
            "   Theoretical_Power_Curve (KWh)  Wind Direction (°)  \n",
            "0                     416.328908          259.994904  \n",
            "1                     519.917511          268.641113  \n",
            "2                     390.900016          272.564789  \n",
            "3                     516.127569          271.258087  \n",
            "4                     491.702972          265.674286  \n",
            "5                     499.436385          264.578613  \n",
            "6                     557.372363          266.163605  \n",
            "7                     414.898179          257.949493  \n",
            "8                     493.677652          253.480698  \n",
            "9                     475.706783          258.723785  \n"
          ]
        }
      ]
    },
    {
      "cell_type": "markdown",
      "source": [
        "3.Print the bottom 5 rows"
      ],
      "metadata": {
        "id": "ioybkh7AEOgJ"
      }
    },
    {
      "cell_type": "code",
      "source": [
        "last_five=windpower.tail(5)"
      ],
      "metadata": {
        "id": "JX1SFmoeu46O"
      },
      "execution_count": null,
      "outputs": []
    },
    {
      "cell_type": "code",
      "source": [
        "print(last_five)"
      ],
      "metadata": {
        "colab": {
          "base_uri": "https://localhost:8080/"
        },
        "id": "Kbs_sFJOvAUj",
        "outputId": "ef1513f6-1667-4fc8-96c5-cabf4bc4f358"
      },
      "execution_count": null,
      "outputs": [
        {
          "output_type": "stream",
          "name": "stdout",
          "text": [
            "              Date/Time  LV ActivePower (kW)  Wind Speed (m/s)  \\\n",
            "50526  02 09 2018 19:40          3519.514893          13.48735   \n",
            "50527  02 09 2018 19:50          3437.865967          13.13513   \n",
            "50528  02 09 2018 20:00          3495.407959          13.27100   \n",
            "50529  02 09 2018 20:10          3360.155029          13.13263   \n",
            "50530  02 09 2018 20:20          3434.852051          13.34532   \n",
            "\n",
            "       Theoretical_Power_Curve (KWh)  Wind Direction (°)  \n",
            "50526                         3600.0           73.457138  \n",
            "50527                         3600.0           72.433693  \n",
            "50528                         3600.0           71.167839  \n",
            "50529                         3600.0           72.007294  \n",
            "50530                         3600.0            6.000000  \n"
          ]
        }
      ]
    },
    {
      "cell_type": "markdown",
      "source": [
        "Display the structure of dataset with datatypes."
      ],
      "metadata": {
        "id": "sWo1wDV4EWHq"
      }
    },
    {
      "cell_type": "code",
      "source": [
        "windpower.dtypes"
      ],
      "metadata": {
        "colab": {
          "base_uri": "https://localhost:8080/"
        },
        "id": "b3TVx8X072Uw",
        "outputId": "2e811cc6-d6dd-4759-b1ff-2543322034d4"
      },
      "execution_count": 7,
      "outputs": [
        {
          "output_type": "execute_result",
          "data": {
            "text/plain": [
              "Date/Time                         object\n",
              "LV ActivePower (kW)              float64\n",
              "Wind Speed (m/s)                 float64\n",
              "Theoretical_Power_Curve (KWh)    float64\n",
              "Wind Direction (°)               float64\n",
              "dtype: object"
            ]
          },
          "metadata": {},
          "execution_count": 7
        }
      ]
    },
    {
      "cell_type": "markdown",
      "source": [
        "Fill the NULL values with the average value of that column"
      ],
      "metadata": {
        "id": "X-ZSCi_eEgGs"
      }
    },
    {
      "cell_type": "code",
      "source": [
        "windpower.fillna(windpower.mean(),inplace=True)\n",
        "print(windpower)"
      ],
      "metadata": {
        "colab": {
          "base_uri": "https://localhost:8080/"
        },
        "id": "GUGXJ1t_v2rQ",
        "outputId": "37527ab9-ba94-4a76-c1cb-0d62c2303fb5"
      },
      "execution_count": 9,
      "outputs": [
        {
          "output_type": "stream",
          "name": "stdout",
          "text": [
            "              Date/Time  LV ActivePower (kW)  Wind Speed (m/s)  \\\n",
            "0      01 01 2018 00:00           380.047791          5.311336   \n",
            "1      01 01 2018 00:10           453.769196          5.672167   \n",
            "2      01 01 2018 00:20           306.376587          5.216037   \n",
            "3      01 01 2018 00:30           419.645904          5.659674   \n",
            "4      01 01 2018 00:40           380.650696          5.577941   \n",
            "...                 ...                  ...               ...   \n",
            "50525  31 12 2018 23:10          2963.980957         11.404030   \n",
            "50526  31 12 2018 23:20          1684.353027          7.332648   \n",
            "50527  31 12 2018 23:30          2201.106934          8.435358   \n",
            "50528  31 12 2018 23:40          2515.694092          9.421366   \n",
            "50529  31 12 2018 23:50          2820.466064          9.979332   \n",
            "\n",
            "       Theoretical_Power_Curve (KWh)  Wind Direction (°)  \n",
            "0                         416.328908          259.994904  \n",
            "1                         519.917511          268.641113  \n",
            "2                         390.900016          272.564789  \n",
            "3                         516.127569          271.258087  \n",
            "4                         491.702972          265.674286  \n",
            "...                              ...                 ...  \n",
            "50525                    3397.190793           80.502724  \n",
            "50526                    1173.055771           84.062599  \n",
            "50527                    1788.284755           84.742500  \n",
            "50528                    2418.382503           84.297913  \n",
            "50529                    2779.184096           82.274620  \n",
            "\n",
            "[50530 rows x 5 columns]\n"
          ]
        },
        {
          "output_type": "stream",
          "name": "stderr",
          "text": [
            "/usr/local/lib/python3.7/dist-packages/ipykernel_launcher.py:1: FutureWarning: Dropping of nuisance columns in DataFrame reductions (with 'numeric_only=None') is deprecated; in a future version this will raise TypeError.  Select only valid columns before calling the reduction.\n",
            "  \"\"\"Entry point for launching an IPython kernel.\n"
          ]
        }
      ]
    },
    {
      "cell_type": "markdown",
      "source": [
        "5.Find out Mean, Standard deviation, Min, Max for the column wind speed"
      ],
      "metadata": {
        "id": "RuX0Co0nEjmL"
      }
    },
    {
      "cell_type": "code",
      "source": [
        "print(windpower.describe())"
      ],
      "metadata": {
        "colab": {
          "base_uri": "https://localhost:8080/"
        },
        "id": "dNdse2yPweWR",
        "outputId": "2b9711de-b883-4a55-bdee-a792f3fccec2"
      },
      "execution_count": null,
      "outputs": [
        {
          "output_type": "stream",
          "name": "stdout",
          "text": [
            "       LV ActivePower (kW)  Wind Speed (m/s)  Theoretical_Power_Curve (KWh)  \\\n",
            "count         50528.000000      50528.000000                   50528.000000   \n",
            "mean           1307.710653          7.558011                    1492.208449   \n",
            "std            1312.478234          4.227239                    1368.035046   \n",
            "min              -2.471405          0.000000                       0.000000   \n",
            "25%              50.659019          4.201236                     161.296992   \n",
            "50%             825.944366          7.104919                    1063.927191   \n",
            "75%            2482.521057         10.300220                    2965.078883   \n",
            "max            3618.732910         25.206011                    3600.000000   \n",
            "\n",
            "       Wind Direction (°)  \n",
            "count        50528.000000  \n",
            "mean           123.681110  \n",
            "std             93.443106  \n",
            "min              0.000000  \n",
            "25%             49.313946  \n",
            "50%             73.712463  \n",
            "75%            201.692520  \n",
            "max            359.997589  \n"
          ]
        }
      ]
    },
    {
      "cell_type": "markdown",
      "source": [
        "Create a histogram plot for the column windspeed"
      ],
      "metadata": {
        "id": "tnjkAtzYEuSE"
      }
    },
    {
      "cell_type": "code",
      "source": [
        "windpower.hist(column='Wind Speed (m/s)')"
      ],
      "metadata": {
        "colab": {
          "base_uri": "https://localhost:8080/",
          "height": 312
        },
        "id": "3_G9Q6xr_mV8",
        "outputId": "709767ed-1ccf-4b24-d2b6-4dc94fdaeb79"
      },
      "execution_count": 10,
      "outputs": [
        {
          "output_type": "execute_result",
          "data": {
            "text/plain": [
              "array([[<matplotlib.axes._subplots.AxesSubplot object at 0x7fead041a590>]],\n",
              "      dtype=object)"
            ]
          },
          "metadata": {},
          "execution_count": 10
        },
        {
          "output_type": "display_data",
          "data": {
            "text/plain": [
              "<Figure size 432x288 with 1 Axes>"
            ],
            "image/png": "[encoded data removed]"
          },
          "metadata": {
            "needs_background": "light"
          }
        }
      ]
    },
    {
      "cell_type": "markdown",
      "source": [
        "Create scatter plot between windspeed and Theoretical power curve."
      ],
      "metadata": {
        "id": "nPSI7NnFExpR"
      }
    },
    {
      "cell_type": "code",
      "source": [
        "sc1=windpower.plot.scatter(x='Wind Speed (m/s)', y='Theoretical_Power_Curve (KWh)',c='DarkBlue')"
      ],
      "metadata": {
        "colab": {
          "base_uri": "https://localhost:8080/",
          "height": 278
        },
        "id": "ayB0HOl5Al2D",
        "outputId": "d328b092-d250-4d4f-8221-2035872e5414"
      },
      "execution_count": 11,
      "outputs": [
        {
          "output_type": "display_data",
          "data": {
            "text/plain": [
              "<Figure size 432x288 with 1 Axes>"
            ],
            "image/png": "[encoded data removed]"
          },
          "metadata": {
            "needs_background": "light"
          }
        }
      ]
    },
    {
      "cell_type": "markdown",
      "source": [
        "Display the rows where windspeed <5."
      ],
      "metadata": {
        "id": "9UcMuGzvE4oc"
      }
    },
    {
      "cell_type": "code",
      "source": [
        "windpower.loc[windpower['Wind Speed (m/s)'] < 5]"
      ],
      "metadata": {
        "colab": {
          "base_uri": "https://localhost:8080/",
          "height": 411
        },
        "id": "6MeG7YkrBtTh",
        "outputId": "97bb2a54-cc3f-4ce8-cd2d-a1fa1a691d92"
      },
      "execution_count": 12,
      "outputs": [
        {
          "output_type": "execute_result",
          "data": {
            "text/plain": [
              "              Date/Time  LV ActivePower (kW)  Wind Speed (m/s)  \\\n",
              "55     01 01 2018 09:10           408.997406          4.977198   \n",
              "64     01 01 2018 10:40           311.050903          4.960732   \n",
              "65     01 01 2018 10:50           230.055496          4.603875   \n",
              "66     01 01 2018 11:00           233.990601          4.554534   \n",
              "67     01 01 2018 11:10           175.592194          4.263629   \n",
              "...                 ...                  ...               ...   \n",
              "50495  31 12 2018 18:10           341.905487          4.556026   \n",
              "50496  31 12 2018 18:20           399.653809          4.798016   \n",
              "50497  31 12 2018 18:30           372.079590          4.795230   \n",
              "50498  31 12 2018 18:40           411.729187          4.860610   \n",
              "50499  31 12 2018 18:50           471.419708          4.994785   \n",
              "\n",
              "       Theoretical_Power_Curve (KWh)  Wind Direction (°)  \n",
              "55                        330.417630          207.997803  \n",
              "64                        326.411025          229.537506  \n",
              "65                        244.316244          231.798492  \n",
              "66                        233.632780          234.105606  \n",
              "67                        173.573663          228.776703  \n",
              "...                              ...                 ...  \n",
              "50495                     233.953613           91.588493  \n",
              "50496                     287.885241           94.329742  \n",
              "50497                     287.241996           98.706261  \n",
              "50498                     302.480001           97.239059  \n",
              "50499                     334.719439           99.136337  \n",
              "\n",
              "[15744 rows x 5 columns]"
            ],
            "text/html": [
              "\n",
              "  <div id=\"df-29d57c3c-f5af-4127-a27f-8f25520b99ca\">\n",
              "    <div class=\"colab-df-container\">\n",
              "      <div>\n",
              "<style scoped>\n",
              "    .dataframe tbody tr th:only-of-type {\n",
              "        vertical-align: middle;\n",
              "    }\n",
              "\n",
              "    .dataframe tbody tr th {\n",
              "        vertical-align: top;\n",
              "    }\n",
              "\n",
              "    .dataframe thead th {\n",
              "        text-align: right;\n",
              "    }\n",
              "</style>\n",
              "<table border=\"1\" class=\"dataframe\">\n",
              "  <thead>\n",
              "    <tr style=\"text-align: right;\">\n",
              "      <th></th>\n",
              "      <th>Date/Time</th>\n",
              "      <th>LV ActivePower (kW)</th>\n",
              "      <th>Wind Speed (m/s)</th>\n",
              "      <th>Theoretical_Power_Curve (KWh)</th>\n",
              "      <th>Wind Direction (°)</th>\n",
              "    </tr>\n",
              "  </thead>\n",
              "  <tbody>\n",
              "    <tr>\n",
              "      <th>55</th>\n",
              "      <td>01 01 2018 09:10</td>\n",
              "      <td>408.997406</td>\n",
              "      <td>4.977198</td>\n",
              "      <td>330.417630</td>\n",
              "      <td>207.997803</td>\n",
              "    </tr>\n",
              "    <tr>\n",
              "      <th>64</th>\n",
              "      <td>01 01 2018 10:40</td>\n",
              "      <td>311.050903</td>\n",
              "      <td>4.960732</td>\n",
              "      <td>326.411025</td>\n",
              "      <td>229.537506</td>\n",
              "    </tr>\n",
              "    <tr>\n",
              "      <th>65</th>\n",
              "      <td>01 01 2018 10:50</td>\n",
              "      <td>230.055496</td>\n",
              "      <td>4.603875</td>\n",
              "      <td>244.316244</td>\n",
              "      <td>231.798492</td>\n",
              "    </tr>\n",
              "    <tr>\n",
              "      <th>66</th>\n",
              "      <td>01 01 2018 11:00</td>\n",
              "      <td>233.990601</td>\n",
              "      <td>4.554534</td>\n",
              "      <td>233.632780</td>\n",
              "      <td>234.105606</td>\n",
              "    </tr>\n",
              "    <tr>\n",
              "      <th>67</th>\n",
              "      <td>01 01 2018 11:10</td>\n",
              "      <td>175.592194</td>\n",
              "      <td>4.263629</td>\n",
              "      <td>173.573663</td>\n",
              "      <td>228.776703</td>\n",
              "    </tr>\n",
              "    <tr>\n",
              "      <th>...</th>\n",
              "      <td>...</td>\n",
              "      <td>...</td>\n",
              "      <td>...</td>\n",
              "      <td>...</td>\n",
              "      <td>...</td>\n",
              "    </tr>\n",
              "    <tr>\n",
              "      <th>50495</th>\n",
              "      <td>31 12 2018 18:10</td>\n",
              "      <td>341.905487</td>\n",
              "      <td>4.556026</td>\n",
              "      <td>233.953613</td>\n",
              "      <td>91.588493</td>\n",
              "    </tr>\n",
              "    <tr>\n",
              "      <th>50496</th>\n",
              "      <td>31 12 2018 18:20</td>\n",
              "      <td>399.653809</td>\n",
              "      <td>4.798016</td>\n",
              "      <td>287.885241</td>\n",
              "      <td>94.329742</td>\n",
              "    </tr>\n",
              "    <tr>\n",
              "      <th>50497</th>\n",
              "      <td>31 12 2018 18:30</td>\n",
              "      <td>372.079590</td>\n",
              "      <td>4.795230</td>\n",
              "      <td>287.241996</td>\n",
              "      <td>98.706261</td>\n",
              "    </tr>\n",
              "    <tr>\n",
              "      <th>50498</th>\n",
              "      <td>31 12 2018 18:40</td>\n",
              "      <td>411.729187</td>\n",
              "      <td>4.860610</td>\n",
              "      <td>302.480001</td>\n",
              "      <td>97.239059</td>\n",
              "    </tr>\n",
              "    <tr>\n",
              "      <th>50499</th>\n",
              "      <td>31 12 2018 18:50</td>\n",
              "      <td>471.419708</td>\n",
              "      <td>4.994785</td>\n",
              "      <td>334.719439</td>\n",
              "      <td>99.136337</td>\n",
              "    </tr>\n",
              "  </tbody>\n",
              "</table>\n",
              "<p>15744 rows × 5 columns</p>\n",
              "</div>\n",
              "      <button class=\"colab-df-convert\" onclick=\"convertToInteractive('df-29d57c3c-f5af-4127-a27f-8f25520b99ca')\"\n",
              "              title=\"Convert this dataframe to an interactive table.\"\n",
              "              style=\"display:none;\">\n",
              "        \n",
              "  <svg xmlns=\"http://www.w3.org/2000/svg\" height=\"24px\"viewBox=\"0 0 24 24\"\n",
              "       width=\"24px\">\n",
              "    <path d=\"M0 0h24v24H0V0z\" fill=\"none\"/>\n",
              "    <path d=\"M18.56 5.44l.94 2.06.94-2.06 2.06-.94-2.06-.94-.94-2.06-.94 2.06-2.06.94zm-11 1L8.5 8.5l.94-2.06 2.06-.94-2.06-.94L8.5 2.5l-.94 2.06-2.06.94zm10 10l.94 2.06.94-2.06 2.06-.94-2.06-.94-.94-2.06-.94 2.06-2.06.94z\"/><path d=\"M17.41 7.96l-1.37-1.37c-.4-.4-.92-.59-1.43-.59-.52 0-1.04.2-1.43.59L10.3 9.45l-7.72 7.72c-.78.78-.78 2.05 0 2.83L4 21.41c.39.39.9.59 1.41.59.51 0 1.02-.2 1.41-.59l7.78-7.78 2.81-2.81c.8-.78.8-2.07 0-2.86zM5.41 20L4 18.59l7.72-7.72 1.47 1.35L5.41 20z\"/>\n",
              "  </svg>\n",
              "      </button>\n",
              "      \n",
              "  <style>\n",
              "    .colab-df-container {\n",
              "      display:flex;\n",
              "      flex-wrap:wrap;\n",
              "      gap: 12px;\n",
              "    }\n",
              "\n",
              "    .colab-df-convert {\n",
              "      background-color: #E8F0FE;\n",
              "      border: none;\n",
              "      border-radius: 50%;\n",
              "      cursor: pointer;\n",
              "      display: none;\n",
              "      fill: #1967D2;\n",
              "      height: 32px;\n",
              "      padding: 0 0 0 0;\n",
              "      width: 32px;\n",
              "    }\n",
              "\n",
              "    .colab-df-convert:hover {\n",
              "      background-color: #E2EBFA;\n",
              "      box-shadow: 0px 1px 2px rgba(60, 64, 67, 0.3), 0px 1px 3px 1px rgba(60, 64, 67, 0.15);\n",
              "      fill: #174EA6;\n",
              "    }\n",
              "\n",
              "    [theme=dark] .colab-df-convert {\n",
              "      background-color: #3B4455;\n",
              "      fill: #D2E3FC;\n",
              "    }\n",
              "\n",
              "    [theme=dark] .colab-df-convert:hover {\n",
              "      background-color: #434B5C;\n",
              "      box-shadow: 0px 1px 3px 1px rgba(0, 0, 0, 0.15);\n",
              "      filter: drop-shadow(0px 1px 2px rgba(0, 0, 0, 0.3));\n",
              "      fill: #FFFFFF;\n",
              "    }\n",
              "  </style>\n",
              "\n",
              "      <script>\n",
              "        const buttonEl =\n",
              "          document.querySelector('#df-29d57c3c-f5af-4127-a27f-8f25520b99ca button.colab-df-convert');\n",
              "        buttonEl.style.display =\n",
              "          google.colab.kernel.accessAllowed ? 'block' : 'none';\n",
              "\n",
              "        async function convertToInteractive(key) {\n",
              "          const element = document.querySelector('#df-29d57c3c-f5af-4127-a27f-8f25520b99ca');\n",
              "          const dataTable =\n",
              "            await google.colab.kernel.invokeFunction('convertToInteractive',\n",
              "                                                     [key], {});\n",
              "          if (!dataTable) return;\n",
              "\n",
              "          const docLinkHtml = 'Like what you see? Visit the ' +\n",
              "            '<a target=\"_blank\" href=https://colab.research.google.com/notebooks/data_table.ipynb>data table notebook</a>'\n",
              "            + ' to learn more about interactive tables.';\n",
              "          element.innerHTML = '';\n",
              "          dataTable['output_type'] = 'display_data';\n",
              "          await google.colab.output.renderOutput(dataTable, element);\n",
              "          const docLink = document.createElement('div');\n",
              "          docLink.innerHTML = docLinkHtml;\n",
              "          element.appendChild(docLink);\n",
              "        }\n",
              "      </script>\n",
              "    </div>\n",
              "  </div>\n",
              "  "
            ]
          },
          "metadata": {},
          "execution_count": 12
        }
      ]
    },
    {
      "cell_type": "markdown",
      "source": [
        "Extract the rows where wind direction > 200"
      ],
      "metadata": {
        "id": "bbnHHeQLE_Uz"
      }
    },
    {
      "cell_type": "code",
      "source": [
        "windpower.loc[windpower['Wind Direction (°)'] > 200]"
      ],
      "metadata": {
        "colab": {
          "base_uri": "https://localhost:8080/",
          "height": 411
        },
        "id": "T3fra6mOChaQ",
        "outputId": "75400582-6fab-417f-a38f-dcfaeb550302"
      },
      "execution_count": 15,
      "outputs": [
        {
          "output_type": "execute_result",
          "data": {
            "text/plain": [
              "              Date/Time  LV ActivePower (kW)  Wind Speed (m/s)  \\\n",
              "0      01 01 2018 00:00           380.047791          5.311336   \n",
              "1      01 01 2018 00:10           453.769196          5.672167   \n",
              "2      01 01 2018 00:20           306.376587          5.216037   \n",
              "3      01 01 2018 00:30           419.645904          5.659674   \n",
              "4      01 01 2018 00:40           380.650696          5.577941   \n",
              "...                 ...                  ...               ...   \n",
              "50421  31 12 2018 05:50             0.000000          0.431046   \n",
              "50422  31 12 2018 06:00             0.000000          0.539925   \n",
              "50424  31 12 2018 06:20             0.000000          0.520940   \n",
              "50425  31 12 2018 06:30             0.000000          0.971962   \n",
              "50429  31 12 2018 07:10             0.000000          0.338600   \n",
              "\n",
              "       Theoretical_Power_Curve (KWh)  Wind Direction (°)  \n",
              "0                         416.328908          259.994904  \n",
              "1                         519.917511          268.641113  \n",
              "2                         390.900016          272.564789  \n",
              "3                         516.127569          271.258087  \n",
              "4                         491.702972          265.674286  \n",
              "...                              ...                 ...  \n",
              "50421                       0.000000          224.736999  \n",
              "50422                       0.000000          316.677307  \n",
              "50424                       0.000000          211.148102  \n",
              "50425                       0.000000          263.404297  \n",
              "50429                       0.000000          319.640289  \n",
              "\n",
              "[13200 rows x 5 columns]"
            ],
            "text/html": [
              "\n",
              "  <div id=\"df-f23da81d-d531-451d-a415-3d7bd6291e08\">\n",
              "    <div class=\"colab-df-container\">\n",
              "      <div>\n",
              "<style scoped>\n",
              "    .dataframe tbody tr th:only-of-type {\n",
              "        vertical-align: middle;\n",
              "    }\n",
              "\n",
              "    .dataframe tbody tr th {\n",
              "        vertical-align: top;\n",
              "    }\n",
              "\n",
              "    .dataframe thead th {\n",
              "        text-align: right;\n",
              "    }\n",
              "</style>\n",
              "<table border=\"1\" class=\"dataframe\">\n",
              "  <thead>\n",
              "    <tr style=\"text-align: right;\">\n",
              "      <th></th>\n",
              "      <th>Date/Time</th>\n",
              "      <th>LV ActivePower (kW)</th>\n",
              "      <th>Wind Speed (m/s)</th>\n",
              "      <th>Theoretical_Power_Curve (KWh)</th>\n",
              "      <th>Wind Direction (°)</th>\n",
              "    </tr>\n",
              "  </thead>\n",
              "  <tbody>\n",
              "    <tr>\n",
              "      <th>0</th>\n",
              "      <td>01 01 2018 00:00</td>\n",
              "      <td>380.047791</td>\n",
              "      <td>5.311336</td>\n",
              "      <td>416.328908</td>\n",
              "      <td>259.994904</td>\n",
              "    </tr>\n",
              "    <tr>\n",
              "      <th>1</th>\n",
              "      <td>01 01 2018 00:10</td>\n",
              "      <td>453.769196</td>\n",
              "      <td>5.672167</td>\n",
              "      <td>519.917511</td>\n",
              "      <td>268.641113</td>\n",
              "    </tr>\n",
              "    <tr>\n",
              "      <th>2</th>\n",
              "      <td>01 01 2018 00:20</td>\n",
              "      <td>306.376587</td>\n",
              "      <td>5.216037</td>\n",
              "      <td>390.900016</td>\n",
              "      <td>272.564789</td>\n",
              "    </tr>\n",
              "    <tr>\n",
              "      <th>3</th>\n",
              "      <td>01 01 2018 00:30</td>\n",
              "      <td>419.645904</td>\n",
              "      <td>5.659674</td>\n",
              "      <td>516.127569</td>\n",
              "      <td>271.258087</td>\n",
              "    </tr>\n",
              "    <tr>\n",
              "      <th>4</th>\n",
              "      <td>01 01 2018 00:40</td>\n",
              "      <td>380.650696</td>\n",
              "      <td>5.577941</td>\n",
              "      <td>491.702972</td>\n",
              "      <td>265.674286</td>\n",
              "    </tr>\n",
              "    <tr>\n",
              "      <th>...</th>\n",
              "      <td>...</td>\n",
              "      <td>...</td>\n",
              "      <td>...</td>\n",
              "      <td>...</td>\n",
              "      <td>...</td>\n",
              "    </tr>\n",
              "    <tr>\n",
              "      <th>50421</th>\n",
              "      <td>31 12 2018 05:50</td>\n",
              "      <td>0.000000</td>\n",
              "      <td>0.431046</td>\n",
              "      <td>0.000000</td>\n",
              "      <td>224.736999</td>\n",
              "    </tr>\n",
              "    <tr>\n",
              "      <th>50422</th>\n",
              "      <td>31 12 2018 06:00</td>\n",
              "      <td>0.000000</td>\n",
              "      <td>0.539925</td>\n",
              "      <td>0.000000</td>\n",
              "      <td>316.677307</td>\n",
              "    </tr>\n",
              "    <tr>\n",
              "      <th>50424</th>\n",
              "      <td>31 12 2018 06:20</td>\n",
              "      <td>0.000000</td>\n",
              "      <td>0.520940</td>\n",
              "      <td>0.000000</td>\n",
              "      <td>211.148102</td>\n",
              "    </tr>\n",
              "    <tr>\n",
              "      <th>50425</th>\n",
              "      <td>31 12 2018 06:30</td>\n",
              "      <td>0.000000</td>\n",
              "      <td>0.971962</td>\n",
              "      <td>0.000000</td>\n",
              "      <td>263.404297</td>\n",
              "    </tr>\n",
              "    <tr>\n",
              "      <th>50429</th>\n",
              "      <td>31 12 2018 07:10</td>\n",
              "      <td>0.000000</td>\n",
              "      <td>0.338600</td>\n",
              "      <td>0.000000</td>\n",
              "      <td>319.640289</td>\n",
              "    </tr>\n",
              "  </tbody>\n",
              "</table>\n",
              "<p>13200 rows × 5 columns</p>\n",
              "</div>\n",
              "      <button class=\"colab-df-convert\" onclick=\"convertToInteractive('df-f23da81d-d531-451d-a415-3d7bd6291e08')\"\n",
              "              title=\"Convert this dataframe to an interactive table.\"\n",
              "              style=\"display:none;\">\n",
              "        \n",
              "  <svg xmlns=\"http://www.w3.org/2000/svg\" height=\"24px\"viewBox=\"0 0 24 24\"\n",
              "       width=\"24px\">\n",
              "    <path d=\"M0 0h24v24H0V0z\" fill=\"none\"/>\n",
              "    <path d=\"M18.56 5.44l.94 2.06.94-2.06 2.06-.94-2.06-.94-.94-2.06-.94 2.06-2.06.94zm-11 1L8.5 8.5l.94-2.06 2.06-.94-2.06-.94L8.5 2.5l-.94 2.06-2.06.94zm10 10l.94 2.06.94-2.06 2.06-.94-2.06-.94-.94-2.06-.94 2.06-2.06.94z\"/><path d=\"M17.41 7.96l-1.37-1.37c-.4-.4-.92-.59-1.43-.59-.52 0-1.04.2-1.43.59L10.3 9.45l-7.72 7.72c-.78.78-.78 2.05 0 2.83L4 21.41c.39.39.9.59 1.41.59.51 0 1.02-.2 1.41-.59l7.78-7.78 2.81-2.81c.8-.78.8-2.07 0-2.86zM5.41 20L4 18.59l7.72-7.72 1.47 1.35L5.41 20z\"/>\n",
              "  </svg>\n",
              "      </button>\n",
              "      \n",
              "  <style>\n",
              "    .colab-df-container {\n",
              "      display:flex;\n",
              "      flex-wrap:wrap;\n",
              "      gap: 12px;\n",
              "    }\n",
              "\n",
              "    .colab-df-convert {\n",
              "      background-color: #E8F0FE;\n",
              "      border: none;\n",
              "      border-radius: 50%;\n",
              "      cursor: pointer;\n",
              "      display: none;\n",
              "      fill: #1967D2;\n",
              "      height: 32px;\n",
              "      padding: 0 0 0 0;\n",
              "      width: 32px;\n",
              "    }\n",
              "\n",
              "    .colab-df-convert:hover {\n",
              "      background-color: #E2EBFA;\n",
              "      box-shadow: 0px 1px 2px rgba(60, 64, 67, 0.3), 0px 1px 3px 1px rgba(60, 64, 67, 0.15);\n",
              "      fill: #174EA6;\n",
              "    }\n",
              "\n",
              "    [theme=dark] .colab-df-convert {\n",
              "      background-color: #3B4455;\n",
              "      fill: #D2E3FC;\n",
              "    }\n",
              "\n",
              "    [theme=dark] .colab-df-convert:hover {\n",
              "      background-color: #434B5C;\n",
              "      box-shadow: 0px 1px 3px 1px rgba(0, 0, 0, 0.15);\n",
              "      filter: drop-shadow(0px 1px 2px rgba(0, 0, 0, 0.3));\n",
              "      fill: #FFFFFF;\n",
              "    }\n",
              "  </style>\n",
              "\n",
              "      <script>\n",
              "        const buttonEl =\n",
              "          document.querySelector('#df-f23da81d-d531-451d-a415-3d7bd6291e08 button.colab-df-convert');\n",
              "        buttonEl.style.display =\n",
              "          google.colab.kernel.accessAllowed ? 'block' : 'none';\n",
              "\n",
              "        async function convertToInteractive(key) {\n",
              "          const element = document.querySelector('#df-f23da81d-d531-451d-a415-3d7bd6291e08');\n",
              "          const dataTable =\n",
              "            await google.colab.kernel.invokeFunction('convertToInteractive',\n",
              "                                                     [key], {});\n",
              "          if (!dataTable) return;\n",
              "\n",
              "          const docLinkHtml = 'Like what you see? Visit the ' +\n",
              "            '<a target=\"_blank\" href=https://colab.research.google.com/notebooks/data_table.ipynb>data table notebook</a>'\n",
              "            + ' to learn more about interactive tables.';\n",
              "          element.innerHTML = '';\n",
              "          dataTable['output_type'] = 'display_data';\n",
              "          await google.colab.output.renderOutput(dataTable, element);\n",
              "          const docLink = document.createElement('div');\n",
              "          docLink.innerHTML = docLinkHtml;\n",
              "          element.appendChild(docLink);\n",
              "        }\n",
              "      </script>\n",
              "    </div>\n",
              "  </div>\n",
              "  "
            ]
          },
          "metadata": {},
          "execution_count": 15
        }
      ]
    },
    {
      "cell_type": "markdown",
      "source": [
        "# **THANK YOU**"
      ],
      "metadata": {
        "id": "YjPTUdOCFI6M"
      }
    }
  ]
}